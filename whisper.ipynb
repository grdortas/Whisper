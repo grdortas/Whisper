{
 "cells": [
  {
   "cell_type": "markdown",
   "id": "7ce6da8f",
   "metadata": {},
   "source": [
    "# Instalação do Whisper AI no Windows\n",
    "\n",
    "## Pré-requisitos:\n",
    "\n",
    "- Python\n",
    "- PyTorch\n",
    "- Chocolatey\n",
    "- FFMPEG\n",
    "- Whisper AI\n",
    "\n",
    "## Etapas de Instalação\n",
    "\n",
    "### 1. Instalando o Python\n",
    "- Baixe a versão mais recente do Python (3.7 - 3.10) do site oficial.\n",
    "- Marque a opção 'add python.exe to path' durante a instalação.\n",
    "\n",
    "### 2. Instalando o PyTorch\n",
    "- Baixe a versão correspondente do PyTorch do site oficial, adequada ao seu sistema operacional e versão do Python.\n",
    "- Escolha a plataforma de cálculo de acordo com a configuração do seu computador.\n",
    "\n",
    "### 3. Instalando o Chocolatey\n",
    "- Abra o PowerShell como administrador e copie o comando do site do Chocolatey para instalação.\n",
    "- Cole o comando no PowerShell e execute.\n",
    "\n",
    "### 4. Instalando o FFMPEG\n",
    "- Digite 'choco install ffmpeg' no PowerShell e execute.\n",
    "\n",
    "### 5. Instalando o Whisper AI\n",
    "- Abra o prompt de comando e digite 'pip install -U openai-whisper'. Execute o comando.\n",
    "\n",
    "## Uso do Whisper AI\n",
    "\n",
    "- Para transcrever um arquivo de áudio, digite 'whisper [nome do arquivo]' no prompt de comando.\n",
    "- O Whisper AI pode transcrever múltiplos arquivos de uma vez e suporta vários formatos de arquivo.\n",
    "- Cinco modelos diferentes podem ser escolhidos para transcrição com qualidade e tempo de processamento variáveis. Utilize o comando '--model' após o nome do arquivo para especificar um modelo.\n",
    "- O Whisper AI também pode transcrever áudio em outros idiomas e traduzir para o inglês.\n",
    "- Vários argumentos estão disponíveis para personalizar o comportamento de transcrição do Whisper AI. Para obter a lista completa de argumentos, digite 'whisper --help' no prompt de comando.\n",
    "\n",
    "###### Fonte: \n",
    "https://youtu.be/ABFqbY_rmEk\n"
   ]
  },
  {
   "cell_type": "code",
   "execution_count": null,
   "id": "c57284e4",
   "metadata": {},
   "outputs": [],
   "source": [
    "import whisper\n",
    "\n",
    "model = whisper.load_model(\"base\") #existem 5 opções de modelo, cada um com exigencia computacional diferente. Ver https://github.com/openai/whisper\n",
    "result = model.transcribe(\"C:\\\\whisper\\\\marcel\\\\marcel_part_1.mp3\", language=\"Portuguese\")\n",
    "print(result[\"text\"])\n",
    "\n",
    "# can be used for translation as well (here, Japanese to English)\n",
    "#result = model.transcribe(\"japanese.wav\", language=\"Japanese\", task=\"translate\", beam_size=5, best_of=5)"
   ]
  },
  {
   "cell_type": "code",
   "execution_count": null,
   "id": "8be0a00b",
   "metadata": {},
   "outputs": [],
   "source": [
    "import json\n",
    "\n",
    "# Caminho do arquivo JSON\n",
    "caminho_arquivo = #coloque aqui o seu caminho\n",
    "\n",
    "# Abrir o arquivo JSON\n",
    "with open(caminho_arquivo) as arquivo:\n",
    "    # Carregar o conteúdo do arquivo JSON\n",
    "    dados_json = json.load(arquivo)\n",
    "\n",
    "# Agora você pode acessar os dados do arquivo JSON\n",
    "# Por exemplo, se o arquivo JSON contém um objeto com uma chave \"nome\":\n",
    "nome = dados_json[\"text\"]\n",
    "print(\"Text:\", nome)"
   ]
  },
  {
   "cell_type": "markdown",
   "id": "91676fc1",
   "metadata": {},
   "source": [
    "# Possivelmente será necessário trabalhar com os arquivos de áudio antes de rodar no Whisper"
   ]
  },
  {
   "cell_type": "markdown",
   "id": "f299ce14",
   "metadata": {},
   "source": [
    "## Converte arquivo de vídeo em formato mp4 para mp3"
   ]
  },
  {
   "cell_type": "code",
   "execution_count": null,
   "id": "4bfd8c95",
   "metadata": {},
   "outputs": [],
   "source": [
    "import subprocess\n",
    "\n",
    "# Caminho do arquivo MP4 de entrada\n",
    "arquivo_mp4 = #coloque aqui o seu caminho\n",
    "\n",
    "# Caminho do arquivo MP3 de saída\n",
    "arquivo_mp3 = #coloque aqui o seu caminho\n",
    "\n",
    "# Comando FFmpeg para realizar a conversão\n",
    "comando_ffmpeg = f\"ffmpeg -i {arquivo_mp4} -vn -acodec libmp3lame {arquivo_mp3}\"\n",
    "\n",
    "\n",
    "# Executa o comando FFmpeg no prompt de comando\n",
    "subprocess.call(comando_ffmpeg, shell=True)\n",
    " \n",
    "\n",
    "print(\"Conversão concluída!\")"
   ]
  },
  {
   "cell_type": "markdown",
   "id": "2f8dfde7",
   "metadata": {},
   "source": [
    "## Converte arquivo de aúdio em formato aac para mp3"
   ]
  },
  {
   "cell_type": "code",
   "execution_count": null,
   "id": "36a7d114",
   "metadata": {},
   "outputs": [],
   "source": [
    "from pydub import AudioSegment\n",
    "\n",
    "# Defina o caminho do arquivo AAC de entrada e o caminho do arquivo MP3 de saída\n",
    "arquivo_aac = #coloque aqui o seu caminho\n",
    "arquivo_mp3 = #coloque aqui o seu caminho\n",
    "\n",
    "# Carregue o arquivo AAC usando o pydub\n",
    "audio_aac = AudioSegment.from_file(arquivo_aac, format=\"aac\")\n",
    "\n",
    "# Exporte o arquivo para o formato MP3\n",
    "audio_aac.export(arquivo_mp3, format=\"mp3\")\n",
    "\n",
    "print(\"Conversão concluída!\")\n"
   ]
  },
  {
   "cell_type": "markdown",
   "id": "a5c7b309",
   "metadata": {},
   "source": [
    "# Combina arquivos de aúdio mp3 num único arquivo"
   ]
  },
  {
   "cell_type": "code",
   "execution_count": null,
   "id": "27e05856",
   "metadata": {},
   "outputs": [],
   "source": [
    "from pydub import AudioSegment\n",
    "\n",
    "# Caminho dos arquivos de entrada\n",
    "arquivo1 = #coloque aqui o seu caminho\n",
    "arquivo2 = #coloque aqui o seu caminho\n",
    "\n",
    "# Carrega os arquivos MP3\n",
    "audio1 = AudioSegment.from_file(arquivo1, format=\"mp3\")\n",
    "audio2 = AudioSegment.from_file(arquivo2, format=\"mp3\")\n",
    "\n",
    "# Junta os arquivos\n",
    "audio_unido = audio1 + audio2\n",
    "\n",
    "# Define o caminho do arquivo de saída\n",
    "arquivo_saida = #coloque aqui o seu caminho\n",
    "\n",
    "# Exporta o arquivo unido\n",
    "audio_unido.export(arquivo_saida, format=\"mp3\")\n",
    "\n",
    "print(\"Arquivos MP3 foram unidos com sucesso!\")"
   ]
  },
  {
   "cell_type": "code",
   "execution_count": null,
   "id": "d0073800",
   "metadata": {},
   "outputs": [],
   "source": []
  }
 ],
 "metadata": {
  "kernelspec": {
   "display_name": "Python 3 (ipykernel)",
   "language": "python",
   "name": "python3"
  },
  "language_info": {
   "codemirror_mode": {
    "name": "ipython",
    "version": 3
   },
   "file_extension": ".py",
   "mimetype": "text/x-python",
   "name": "python",
   "nbconvert_exporter": "python",
   "pygments_lexer": "ipython3",
   "version": "3.10.9"
  }
 },
 "nbformat": 4,
 "nbformat_minor": 5
}
